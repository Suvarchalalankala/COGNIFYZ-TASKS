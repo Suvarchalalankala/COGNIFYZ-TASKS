{
 "cells": [
  {
   "cell_type": "markdown",
   "id": "d02a7545-28b5-458b-8fb8-bd7339e2e638",
   "metadata": {},
   "source": [
    "**Data Exploration and PreProcessing**"
   ]
  },
  {
   "cell_type": "code",
   "execution_count": 10,
   "id": "2a9146b7-a547-4aeb-8531-2bff4145f14e",
   "metadata": {},
   "outputs": [],
   "source": [
    "import pandas as pd\n",
    "import numpy as np\n",
    "import matplotlib.pyplot as plt"
   ]
  },
  {
   "cell_type": "code",
   "execution_count": 2,
   "id": "24200c4f-7985-47d7-8cef-c175a71d64e8",
   "metadata": {},
   "outputs": [],
   "source": [
    "# Load the dataset\n",
    "df = pd.read_csv(\"C:\\\\Users\\\\SUVARCHALA\\\\Downloads\\\\Dataset .csv\")"
   ]
  },
  {
   "cell_type": "code",
   "execution_count": 3,
   "id": "e0122036-1ac6-43a6-a50b-eec111b2cb2c",
   "metadata": {},
   "outputs": [
    {
     "name": "stdout",
     "output_type": "stream",
     "text": [
      "The dataset contains 9551 rows and 21 columns.\n"
     ]
    }
   ],
   "source": [
    "# 1. Explore the dataset and identify the number of rows and columns\n",
    "num_rows, num_columns = df.shape\n",
    "print(f'The dataset contains {num_rows} rows and {num_columns} columns.')"
   ]
  },
  {
   "cell_type": "code",
   "execution_count": 4,
   "id": "6c56a0ed-c6ec-4b1a-9b64-d8371f6d5caa",
   "metadata": {},
   "outputs": [
    {
     "name": "stdout",
     "output_type": "stream",
     "text": [
      "\n",
      "Missing values in each column:\n",
      " Restaurant ID           0\n",
      "Restaurant Name         0\n",
      "Country Code            0\n",
      "City                    0\n",
      "Address                 0\n",
      "Locality                0\n",
      "Locality Verbose        0\n",
      "Longitude               0\n",
      "Latitude                0\n",
      "Cuisines                9\n",
      "Average Cost for two    0\n",
      "Currency                0\n",
      "Has Table booking       0\n",
      "Has Online delivery     0\n",
      "Is delivering now       0\n",
      "Switch to order menu    0\n",
      "Price range             0\n",
      "Aggregate rating        0\n",
      "Rating color            0\n",
      "Rating text             0\n",
      "Votes                   0\n",
      "dtype: int64\n"
     ]
    }
   ],
   "source": [
    "# 2. Check for missing values in each column and handle them accordingly\n",
    "missing_values = df.isnull().sum()\n",
    "print('\\nMissing values in each column:\\n', missing_values)"
   ]
  },
  {
   "cell_type": "code",
   "execution_count": 6,
   "id": "3ccde440-b64e-49ed-9a0a-8136855f5578",
   "metadata": {},
   "outputs": [
    {
     "name": "stdout",
     "output_type": "stream",
     "text": [
      "\n",
      "Missing values after handling:\n",
      " Restaurant ID           0\n",
      "Restaurant Name         0\n",
      "Country Code            0\n",
      "City                    0\n",
      "Address                 0\n",
      "Locality                0\n",
      "Locality Verbose        0\n",
      "Longitude               0\n",
      "Latitude                0\n",
      "Cuisines                0\n",
      "Average Cost for two    0\n",
      "Currency                0\n",
      "Has Table booking       0\n",
      "Has Online delivery     0\n",
      "Is delivering now       0\n",
      "Switch to order menu    0\n",
      "Price range             0\n",
      "Aggregate rating        0\n",
      "Rating color            0\n",
      "Rating text             0\n",
      "Votes                   0\n",
      "dtype: int64\n"
     ]
    },
    {
     "name": "stderr",
     "output_type": "stream",
     "text": [
      "C:\\Users\\SUVARCHALA\\AppData\\Local\\Temp\\ipykernel_11388\\172435912.py:6: DeprecationWarning: Converting `np.inexact` or `np.floating` to a dtype is deprecated. The current result is `float64` which is not strictly correct.\n",
      "  if df[column].dtype == np.number:\n",
      "C:\\Users\\SUVARCHALA\\AppData\\Local\\Temp\\ipykernel_11388\\172435912.py:6: DeprecationWarning: Converting `np.inexact` or `np.floating` to a dtype is deprecated. The current result is `float64` which is not strictly correct.\n",
      "  if df[column].dtype == np.number:\n",
      "C:\\Users\\SUVARCHALA\\AppData\\Local\\Temp\\ipykernel_11388\\172435912.py:6: DeprecationWarning: Converting `np.inexact` or `np.floating` to a dtype is deprecated. The current result is `float64` which is not strictly correct.\n",
      "  if df[column].dtype == np.number:\n",
      "C:\\Users\\SUVARCHALA\\AppData\\Local\\Temp\\ipykernel_11388\\172435912.py:6: DeprecationWarning: Converting `np.inexact` or `np.floating` to a dtype is deprecated. The current result is `float64` which is not strictly correct.\n",
      "  if df[column].dtype == np.number:\n",
      "C:\\Users\\SUVARCHALA\\AppData\\Local\\Temp\\ipykernel_11388\\172435912.py:6: DeprecationWarning: Converting `np.inexact` or `np.floating` to a dtype is deprecated. The current result is `float64` which is not strictly correct.\n",
      "  if df[column].dtype == np.number:\n"
     ]
    }
   ],
   "source": [
    "# Handling missing values\n",
    "# Here we'll decide to either drop or fill the missing values.\n",
    "# For simplicity, let's fill numeric columns with their mean and categorical columns with their mode.\n",
    "\n",
    "for column in df.columns:\n",
    "    if df[column].dtype == np.number:\n",
    "        df[column].fillna(df[column].mean(), inplace=True)\n",
    "    else:\n",
    "        df[column].fillna(df[column].mode()[0], inplace=True)\n",
    "        \n",
    "# Verify if missing values are handled\n",
    "missing_values_after = df.isnull().sum()\n",
    "print('\\nMissing values after handling:\\n', missing_values_after)\n",
    "\n"
   ]
  },
  {
   "cell_type": "code",
   "execution_count": 7,
   "id": "8bb8dd3f-93d1-4221-8a00-842cb7aa7e74",
   "metadata": {},
   "outputs": [
    {
     "name": "stdout",
     "output_type": "stream",
     "text": [
      "\n",
      "Data types before conversion:\n",
      " Restaurant ID             int64\n",
      "Restaurant Name          object\n",
      "Country Code              int64\n",
      "City                     object\n",
      "Address                  object\n",
      "Locality                 object\n",
      "Locality Verbose         object\n",
      "Longitude               float64\n",
      "Latitude                float64\n",
      "Cuisines                 object\n",
      "Average Cost for two      int64\n",
      "Currency                 object\n",
      "Has Table booking        object\n",
      "Has Online delivery      object\n",
      "Is delivering now        object\n",
      "Switch to order menu     object\n",
      "Price range               int64\n",
      "Aggregate rating        float64\n",
      "Rating color             object\n",
      "Rating text              object\n",
      "Votes                     int64\n",
      "dtype: object\n",
      "\n",
      "Data types after conversion:\n",
      " Restaurant ID             int64\n",
      "Restaurant Name          object\n",
      "Country Code              int64\n",
      "City                     object\n",
      "Address                  object\n",
      "Locality                 object\n",
      "Locality Verbose         object\n",
      "Longitude               float64\n",
      "Latitude                float64\n",
      "Cuisines                 object\n",
      "Average Cost for two      int64\n",
      "Currency                 object\n",
      "Has Table booking        object\n",
      "Has Online delivery      object\n",
      "Is delivering now        object\n",
      "Switch to order menu     object\n",
      "Price range               int64\n",
      "Aggregate rating        float64\n",
      "Rating color             object\n",
      "Rating text              object\n",
      "Votes                     int64\n",
      "dtype: object\n"
     ]
    }
   ],
   "source": [
    "# 3. Perform data type conversion if necessary\n",
    "# Checking data types\n",
    "print('\\nData types before conversion:\\n', df.dtypes)\n",
    "\n",
    "# If any column needs conversion, apply it here. For example, if a column is object type but contains numeric data:\n",
    "# df['some_column'] = df['some_column'].astype(float)\n",
    "\n",
    "# Re-checking data types\n",
    "print('\\nData types after conversion:\\n', df.dtypes)\n"
   ]
  },
  {
   "cell_type": "code",
   "execution_count": 8,
   "id": "112b19f8-c185-4889-8f47-fea811bc4d0d",
   "metadata": {},
   "outputs": [
    {
     "data": {
      "image/png": "[encoded data removed]",
      "text/plain": [
       "<Figure size 1000x600 with 1 Axes>"
      ]
     },
     "metadata": {},
     "output_type": "display_data"
    }
   ],
   "source": [
    "# 4. Analyze the distribution of the target variable (\"Aggregate rating\") and identify any class imbalances\n",
    "# Assuming 'Aggregate rating' is the target variable\n",
    "\n",
    "plt.figure(figsize=(10, 6))\n",
    "plt.hist(df['Aggregate rating'], bins=20, edgecolor='k')\n",
    "plt.title('Distribution of Aggregate Rating')\n",
    "plt.xlabel('Aggregate Rating')\n",
    "plt.ylabel('Frequency')\n",
    "plt.show()"
   ]
  },
  {
   "cell_type": "code",
   "execution_count": 9,
   "id": "ac8d656b-858d-47b4-aa95-11a5655ab60a",
   "metadata": {},
   "outputs": [
    {
     "name": "stdout",
     "output_type": "stream",
     "text": [
      "\n",
      "Class distribution of Aggregate Rating:\n",
      " Aggregate rating\n",
      "0.0    2148\n",
      "3.2     522\n",
      "3.1     519\n",
      "3.4     498\n",
      "3.3     483\n",
      "3.5     480\n",
      "3.0     468\n",
      "3.6     458\n",
      "3.7     427\n",
      "3.8     400\n",
      "2.9     381\n",
      "3.9     335\n",
      "2.8     315\n",
      "4.1     274\n",
      "4.0     266\n",
      "2.7     250\n",
      "4.2     221\n",
      "2.6     191\n",
      "4.3     174\n",
      "4.4     144\n",
      "2.5     110\n",
      "4.5      95\n",
      "2.4      87\n",
      "4.6      78\n",
      "4.9      61\n",
      "2.3      47\n",
      "4.7      42\n",
      "2.2      27\n",
      "4.8      25\n",
      "2.1      15\n",
      "2.0       7\n",
      "1.9       2\n",
      "1.8       1\n",
      "Name: count, dtype: int64\n"
     ]
    }
   ],
   "source": [
    "# Checking for class imbalance\n",
    "class_counts = df['Aggregate rating'].value_counts()\n",
    "print('\\nClass distribution of Aggregate Rating:\\n', class_counts)"
   ]
  },
  {
   "cell_type": "code",
   "execution_count": null,
   "id": "df3ce3e7-2ee9-4d94-ae82-dd8ae2e33cfb",
   "metadata": {},
   "outputs": [],
   "source": []
  }
 ],
 "metadata": {
  "kernelspec": {
   "display_name": "Python 3 (ipykernel)",
   "language": "python",
   "name": "python3"
  },
  "language_info": {
   "codemirror_mode": {
    "name": "ipython",
    "version": 3
   },
   "file_extension": ".py",
   "mimetype": "text/x-python",
   "name": "python",
   "nbconvert_exporter": "python",
   "pygments_lexer": "ipython3",
   "version": "3.11.7"
  }
 },
 "nbformat": 4,
 "nbformat_minor": 5
}
