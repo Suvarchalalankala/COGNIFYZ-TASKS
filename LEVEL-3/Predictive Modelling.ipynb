{
 "cells": [
  {
   "cell_type": "code",
   "execution_count": 1,
   "id": "c702de82-dc22-4e27-8651-a708e99e5057",
   "metadata": {},
   "outputs": [],
   "source": [
    "import pandas as pd\n",
    "from sklearn.model_selection import train_test_split\n",
    "from sklearn.preprocessing import StandardScaler\n",
    "from sklearn.metrics import mean_squared_error, r2_score\n",
    "from sklearn.linear_model import LinearRegression\n",
    "from sklearn.tree import DecisionTreeRegressor\n",
    "from sklearn.ensemble import RandomForestRegressor\n",
    "import matplotlib.pyplot as plt\n",
    "import seaborn as sns"
   ]
  },
  {
   "cell_type": "code",
   "execution_count": 2,
   "id": "492efef0-ab86-49ac-b311-345d26c99ddb",
   "metadata": {},
   "outputs": [],
   "source": [
    "# Load the dataset\n",
    "df = pd.read_csv(\"C:\\\\Users\\\\SUVARCHALA\\\\Downloads\\\\Dataset .csv\")"
   ]
  },
  {
   "cell_type": "code",
   "execution_count": 3,
   "id": "75746cd2-a2f7-4c02-974d-4615f620a3e0",
   "metadata": {},
   "outputs": [],
   "source": [
    "# Step 1: Extract additional features\n",
    "df['Restaurant Name Length'] = df['Restaurant Name'].apply(len)\n",
    "df['Address Length'] = df['Address'].apply(len)\n",
    "df['Has Table Booking'] = df['Has Table booking'].apply(lambda x: 1 if x == 'Yes' else 0)\n",
    "df['Has Online Delivery'] = df['Has Online delivery'].apply(lambda x: 1 if x == 'Yes' else 0)\n"
   ]
  },
  {
   "cell_type": "code",
   "execution_count": 4,
   "id": "5d903ab8-d740-46d8-9194-e46b5a25320b",
   "metadata": {},
   "outputs": [],
   "source": [
    "# Select relevant features and target variable\n",
    "features = ['Restaurant Name Length', 'Address Length', 'Has Table Booking', 'Has Online Delivery',\n",
    "            'Average Cost for two', 'Price range', 'Votes']\n",
    "target = 'Aggregate rating'"
   ]
  },
  {
   "cell_type": "code",
   "execution_count": 5,
   "id": "18cb2c38-3adb-4393-a796-79d9ff437e7c",
   "metadata": {},
   "outputs": [],
   "source": [
    "# Handle missing values if any\n",
    "df = df.dropna(subset=features + [target])"
   ]
  },
  {
   "cell_type": "code",
   "execution_count": 6,
   "id": "ab4d9f2e-9b8f-4bc5-a342-150e1579ac44",
   "metadata": {},
   "outputs": [],
   "source": [
    "# Convert categorical features to numerical\n",
    "df = pd.get_dummies(df, columns=['Country Code', 'City', 'Cuisines', 'Currency'], drop_first=True)\n"
   ]
  },
  {
   "cell_type": "code",
   "execution_count": 7,
   "id": "54a08312-659b-4936-9201-c3aa96c935be",
   "metadata": {},
   "outputs": [],
   "source": [
    "# Split the dataset into features (X) and target (y)\n",
    "X = df[features]\n",
    "y = df[target]\n"
   ]
  },
  {
   "cell_type": "code",
   "execution_count": 8,
   "id": "b7859af5-ec80-4fea-945f-b18eecaba930",
   "metadata": {},
   "outputs": [],
   "source": [
    "# Split the dataset into training and testing sets\n",
    "X_train, X_test, y_train, y_test = train_test_split(X, y, test_size=0.2, random_state=42)\n"
   ]
  },
  {
   "cell_type": "code",
   "execution_count": 9,
   "id": "84207dd5-4bbd-4bd3-81ac-760683c89719",
   "metadata": {},
   "outputs": [],
   "source": [
    "# Standardize the features (optional but recommended for some models)\n",
    "scaler = StandardScaler()\n",
    "X_train = scaler.fit_transform(X_train)\n",
    "X_test = scaler.transform(X_test)"
   ]
  },
  {
   "cell_type": "markdown",
   "id": "7277cc12-c3da-44aa-a9a4-95081213d669",
   "metadata": {},
   "source": [
    "**Linear Regression**"
   ]
  },
  {
   "cell_type": "code",
   "execution_count": 10,
   "id": "e2e62413-e548-4c21-886b-a9d2b22aa516",
   "metadata": {},
   "outputs": [],
   "source": [
    "# Linear Regression\n",
    "lr_model = LinearRegression()\n",
    "lr_model.fit(X_train, y_train)\n",
    "y_pred_lr = lr_model.predict(X_test)"
   ]
  },
  {
   "cell_type": "code",
   "execution_count": 11,
   "id": "466e5a13-83fb-4487-b1c1-6fa00ba2791c",
   "metadata": {},
   "outputs": [
    {
     "name": "stdout",
     "output_type": "stream",
     "text": [
      "Linear Regression - MSE: 1.6775321117485151, R2: 0.2629825202173556\n"
     ]
    }
   ],
   "source": [
    "# Evaluate Linear Regression\n",
    "mse_lr = mean_squared_error(y_test, y_pred_lr)\n",
    "r2_lr = r2_score(y_test, y_pred_lr)\n",
    "print(f'Linear Regression - MSE: {mse_lr}, R2: {r2_lr}')"
   ]
  },
  {
   "cell_type": "markdown",
   "id": "2b375062-6278-459f-91b9-b838324bf04b",
   "metadata": {},
   "source": [
    "**Decision Tree classifier**"
   ]
  },
  {
   "cell_type": "code",
   "execution_count": 12,
   "id": "02b21089-23ab-431f-a1cd-056e855527e8",
   "metadata": {},
   "outputs": [
    {
     "name": "stdout",
     "output_type": "stream",
     "text": [
      "Decision Tree Regressor - MSE: 0.21165750915750914, R2: 0.907009062369755\n"
     ]
    }
   ],
   "source": [
    "# Decision Tree Regressor\n",
    "dt_model = DecisionTreeRegressor(random_state=42)\n",
    "dt_model.fit(X_train, y_train)\n",
    "y_pred_dt = dt_model.predict(X_test)\n",
    "\n",
    "# Evaluate Decision Tree Regressor\n",
    "mse_dt = mean_squared_error(y_test, y_pred_dt)\n",
    "r2_dt = r2_score(y_test, y_pred_dt)\n",
    "print(f'Decision Tree Regressor - MSE: {mse_dt}, R2: {r2_dt}')"
   ]
  },
  {
   "cell_type": "markdown",
   "id": "49d5d252-f0e7-45a9-8f99-59c353dbfa1e",
   "metadata": {},
   "source": [
    "**Random forset Regressor**"
   ]
  },
  {
   "cell_type": "code",
   "execution_count": 13,
   "id": "7c9bf707-72f8-4a7e-97f4-1a190b2b1c4c",
   "metadata": {},
   "outputs": [
    {
     "name": "stdout",
     "output_type": "stream",
     "text": [
      "Random Forest Regressor - MSE: 0.11050560744378302, R2: 0.9514497733130268\n"
     ]
    }
   ],
   "source": [
    "# Random Forest Regressor\n",
    "rf_model = RandomForestRegressor(random_state=42, n_estimators=100)\n",
    "rf_model.fit(X_train, y_train)\n",
    "y_pred_rf = rf_model.predict(X_test)\n",
    "\n",
    "# Evaluate Random Forest Regressor\n",
    "mse_rf = mean_squared_error(y_test, y_pred_rf)\n",
    "r2_rf = r2_score(y_test, y_pred_rf)\n",
    "print(f'Random Forest Regressor - MSE: {mse_rf}, R2: {r2_rf}')\n"
   ]
  },
  {
   "cell_type": "markdown",
   "id": "4039ada7-42d3-4481-827f-97708cf3e533",
   "metadata": {},
   "source": [
    "**compare the performance of Different Models**"
   ]
  },
  {
   "cell_type": "code",
   "execution_count": 14,
   "id": "3ad6263d-7dde-43ba-b758-77e063439099",
   "metadata": {},
   "outputs": [
    {
     "name": "stdout",
     "output_type": "stream",
     "text": [
      "               Model       MSE        R2\n",
      "0  Linear Regression  1.677532  0.262983\n",
      "1      Decision Tree  0.211658  0.907009\n",
      "2      Random Forest  0.110506  0.951450\n"
     ]
    }
   ],
   "source": [
    "# Compare the performance of different models\n",
    "model_performance = pd.DataFrame({\n",
    "    'Model': ['Linear Regression', 'Decision Tree', 'Random Forest'],\n",
    "    'MSE': [mse_lr, mse_dt, mse_rf],\n",
    "    'R2': [r2_lr, r2_dt, r2_rf]\n",
    "})\n",
    "\n",
    "print(model_performance)"
   ]
  },
  {
   "cell_type": "markdown",
   "id": "fed7eb23-d608-40ac-8c47-12e49f12b0ea",
   "metadata": {},
   "source": [
    "**Nodel Performance Comparsion MSE**"
   ]
  },
  {
   "cell_type": "code",
   "execution_count": 15,
   "id": "b48c1b45-1b67-4c50-a641-0c0879841cf1",
   "metadata": {},
   "outputs": [
    {
     "data": {
      "image/png": "[encoded data removed]",
      "text/plain": [
       "<Figure size 1000x600 with 1 Axes>"
      ]
     },
     "metadata": {},
     "output_type": "display_data"
    }
   ],
   "source": [
    "# Plot the performance\n",
    "plt.figure(figsize=(10, 6))\n",
    "sns.barplot(x='Model', y='MSE', data=model_performance, palette='viridis')\n",
    "plt.title('Model Performance Comparison (MSE)')\n",
    "plt.xlabel('Model')\n",
    "plt.ylabel('Mean Squared Error')\n",
    "plt.show()"
   ]
  },
  {
   "cell_type": "markdown",
   "id": "e19ebd8f-9c44-4914-9127-52cacf5f5fc3",
   "metadata": {},
   "source": [
    "**Model Performance Comparsion R2**"
   ]
  },
  {
   "cell_type": "code",
   "execution_count": 16,
   "id": "8f369e90-f3d9-42c6-b8cb-681a8f63e612",
   "metadata": {},
   "outputs": [
    {
     "data": {
      "image/png": "[encoded data removed]",
      "text/plain": [
       "<Figure size 1000x600 with 1 Axes>"
      ]
     },
     "metadata": {},
     "output_type": "display_data"
    }
   ],
   "source": [
    "plt.figure(figsize=(10, 6))\n",
    "sns.barplot(x='Model', y='R2', data=model_performance, palette='viridis')\n",
    "plt.title('Model Performance Comparison (R2)')\n",
    "plt.xlabel('Model')\n",
    "plt.ylabel('R-squared')\n",
    "plt.show()"
   ]
  },
  {
   "cell_type": "code",
   "execution_count": null,
   "id": "17f9a491-c467-440e-a7c9-632b2e6f11c0",
   "metadata": {},
   "outputs": [],
   "source": []
  }
 ],
 "metadata": {
  "kernelspec": {
   "display_name": "Python 3 (ipykernel)",
   "language": "python",
   "name": "python3"
  },
  "language_info": {
   "codemirror_mode": {
    "name": "ipython",
    "version": 3
   },
   "file_extension": ".py",
   "mimetype": "text/x-python",
   "name": "python",
   "nbconvert_exporter": "python",
   "pygments_lexer": "ipython3",
   "version": "3.11.7"
  }
 },
 "nbformat": 4,
 "nbformat_minor": 5
}
